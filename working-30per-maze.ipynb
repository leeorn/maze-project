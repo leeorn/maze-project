{
 "cells": [
  {
   "cell_type": "code",
   "execution_count": 38,
   "metadata": {},
   "outputs": [],
   "source": [
    "import numpy as np\n",
    "import cv2\n",
    "import timeit\n",
    "from collections import deque"
   ]
  },
  {
   "cell_type": "code",
   "execution_count": 39,
   "metadata": {},
   "outputs": [],
   "source": [
    "def valid_move2(img, row_idx, col_idx):\n",
    "    # out of left bound\n",
    "    if row_idx < 0:\n",
    "        return False\n",
    "    # out of upper bound\n",
    "    if col_idx < 0:\n",
    "        return False\n",
    "    # out of right bound\n",
    "    if row_idx >= img.shape[0]:\n",
    "        return False\n",
    "    # out of lower bound\n",
    "    if col_idx >= img.shape[1]:\n",
    "        return False\n",
    "\n",
    "    # grayish color - if lower than that, the box is not clear\n",
    "    black_treshold = np.array([100, 100, 100])\n",
    "    if np.all(np.less(img[row_idx][col_idx], black_treshold)):\n",
    "        return False\n",
    "\n",
    "    # it's a valid move\n",
    "    return True"
   ]
  },
  {
   "cell_type": "code",
   "execution_count": 3,
   "metadata": {},
   "outputs": [],
   "source": [
    "class Node:\n",
    "    def __init__(self, row, col, prev, color):\n",
    "        self.row_idx = row\n",
    "        self.col_idx = col\n",
    "        self.prev = prev\n",
    "        self.color = color\n",
    "        self.seen = False"
   ]
  },
  {
   "cell_type": "code",
   "execution_count": 4,
   "metadata": {},
   "outputs": [],
   "source": [
    "def shortest_path2(img, start_row, start_col, end_row, end_col, size=1):\n",
    "    # inite a queue (FIFO)\n",
    "    seen_q2 = np.zeros([img.shape[0], img.shape[1]])\n",
    "    q = deque()\n",
    "    \n",
    "    # create a node object\n",
    "    node = Node(start_row, start_col, None, None)\n",
    "    # append the first node to the queue\n",
    "    q.append(node)\n",
    "\n",
    "    # while the queue is not empty, continue looking for the end\n",
    "    while q:\n",
    "        n = q.popleft()\n",
    "\n",
    "        # checks if reach the end. if so return the node\n",
    "        if n.row_idx == end_row and n.col_idx == end_col:\n",
    "            return n\n",
    "\n",
    "        # if visited this area, don't visit again\n",
    "        if seen_q2[n.row_idx][n.col_idx]:\n",
    "            continue\n",
    "\n",
    "        # check if can move to left, up, right, down\n",
    "        # checks left\n",
    "        if valid_move2(img, n.row_idx, n.col_idx - 1):\n",
    "            q.append(Node(n.row_idx, n.col_idx - 1, n, None))\n",
    "\n",
    "        # checks up\n",
    "        if valid_move2(img, n.row_idx - 1, n.col_idx):\n",
    "            q.append(Node(n.row_idx - 1, n.col_idx, n, None))\n",
    "\n",
    "        # checks right\n",
    "        if valid_move2(img, n.row_idx, n.col_idx + 1):\n",
    "            q.append(Node(n.row_idx, n.col_idx + 1, n, None))\n",
    "\n",
    "        # checks down\n",
    "        if valid_move2(img, n.row_idx + 1, n.col_idx):\n",
    "            q.append(Node(n.row_idx + 1, n.col_idx, n, None))\n",
    "\n",
    "        seen_q2[n.row_idx][n.col_idx] = 1\n",
    "\n",
    "\n",
    "    # if reached here - no path was found\n",
    "    print(\"DIDN'T FIND PATH\")\n",
    "    return"
   ]
  },
  {
   "cell_type": "code",
   "execution_count": 5,
   "metadata": {},
   "outputs": [],
   "source": [
    "def resize(img, per):\n",
    "\n",
    "    scale_percent = per # percent of original size\n",
    "    width = int(img.shape[1] * scale_percent / 100)\n",
    "    height = int(img.shape[0] * scale_percent / 100)\n",
    "    dim = (width, height)\n",
    "    \n",
    "    # resize image\n",
    "    resized = cv2.resize(img, dim, interpolation = cv2.INTER_AREA)\n",
    "    \n",
    "    return resized"
   ]
  },
  {
   "cell_type": "code",
   "execution_count": 6,
   "metadata": {},
   "outputs": [],
   "source": [
    "def recolor_img(img):\n",
    "    # recolor the resized img\n",
    "    for r in range(img.shape[0]):\n",
    "        for c in range(img.shape[1]):\n",
    "\n",
    "            black_treshold = np.array([100,100,100])\n",
    "            # color black\n",
    "            if np.any(np.less(img[r][c], black_treshold)):\n",
    "                img[r][c] = (0,0,0)\n",
    "\n",
    "            # color white\n",
    "            else:\n",
    "                img[r][c] = (255,255,255)\n",
    "                \n",
    "    return img"
   ]
  },
  {
   "cell_type": "code",
   "execution_count": 48,
   "metadata": {},
   "outputs": [
    {
     "name": "stdout",
     "output_type": "stream",
     "text": [
      "(512, 640, 3)\n",
      "Found path\n"
     ]
    }
   ],
   "source": [
    "# algo\n",
    "# load image\n",
    "\n",
    "# load the image\n",
    "pic = cv2.imread('maze.jpg')\n",
    "\n",
    "# resize it to X percent\n",
    "img_resized = resize(pic, 50)\n",
    "\n",
    "# recolor the maze to white and balck \n",
    "colored_img = recolor_img(img_resized.copy())\n",
    "\n",
    "print(colored_img.shape)\n",
    "\n",
    "# colored_img[100:105, 100:105, :] = (255,0,0)\n",
    "# colored_img[410:415, 450:455, :]= (255,0,0)\n",
    "\n",
    "# # show the path of the original image\n",
    "# cv2.imshow(\"Colored-IMG\", colored_img)\n",
    "\n",
    "# # wait to close the window\n",
    "# cv2.waitKey(0)\n",
    "# cv2.destroyAllWindows()\n",
    "\n",
    "\n",
    "\n",
    "\n",
    "# find shortest path\n",
    "n = shortest_path2(colored_img, 100,100,410,450,1)\n",
    "\n",
    "\n",
    "\n",
    "if n:\n",
    "    print(\"Found path\")"
   ]
  },
  {
   "cell_type": "code",
   "execution_count": 49,
   "metadata": {},
   "outputs": [],
   "source": [
    "# color the path \n",
    "n1 = n\n",
    "while n1:\n",
    "    img_resized[n1.row_idx-1:n1.row_idx+1, n1.col_idx-1:n1.col_idx+1, :] = (0,255,0)\n",
    "    n1 = n1.prev\n",
    "\n",
    "# show the path of the original image\n",
    "cv2.imshow(\"Colored-IMG\", img_resized)\n",
    "\n",
    "# write the img to current folder\n",
    "# cv2.imwrite(\"maze.jpg\",img_resized)\n",
    "\n",
    "\n",
    "# wait to close the window\n",
    "cv2.waitKey(0)\n",
    "cv2.destroyAllWindows()"
   ]
  },
  {
   "cell_type": "code",
   "execution_count": null,
   "metadata": {},
   "outputs": [],
   "source": []
  },
  {
   "cell_type": "code",
   "execution_count": 26,
   "metadata": {},
   "outputs": [
    {
     "name": "stdout",
     "output_type": "stream",
     "text": [
      "(307, 384, 3)\n"
     ]
    }
   ],
   "source": [
    "# load the image\n",
    "pic = cv2.imread('maze.jpg')\n",
    "\n",
    "# resize it to X percent\n",
    "img_resized = resize(pic, 30)\n",
    "print(img_resized.shape)\n",
    "\n",
    "# recolor the maze to white and balck \n",
    "colored_img = recolor_img(img_resized.copy())\n",
    "\n",
    "# show the path of the original image\n",
    "cv2.imshow(\"Colored-IMG\", colored_img)\n",
    "\n",
    "# wait to close the window\n",
    "cv2.waitKey(0)\n",
    "cv2.destroyAllWindows()"
   ]
  },
  {
   "cell_type": "code",
   "execution_count": 8,
   "metadata": {},
   "outputs": [],
   "source": [
    "# load the image\n",
    "pic = cv2.imread('maze.jpg')\n",
    "# show the path of the original image\n",
    "cv2.imshow(\"Colored-IMG\", pic)\n",
    "\n",
    "# wait to close the window\n",
    "cv2.waitKey(0)\n",
    "cv2.destroyAllWindows()"
   ]
  },
  {
   "cell_type": "code",
   "execution_count": 24,
   "metadata": {},
   "outputs": [
    {
     "name": "stdout",
     "output_type": "stream",
     "text": [
      "(307, 384, 3)\n"
     ]
    }
   ],
   "source": [
    "## CHECK\n",
    "\n",
    "\n",
    "# load the image\n",
    "pic = cv2.imread('maze.jpg')\n",
    "\n",
    "# resize it to X percent\n",
    "img_resized = resize(pic, 30)\n",
    "print(img_resized.shape)\n",
    "\n",
    "img_resized[50:55, 50:55, :] = (255,0,0)\n",
    "img_resized[230:235, 270:275, :] = (255,0,0)\n",
    "\n",
    "# show the path of the original image\n",
    "cv2.imshow(\"Colored-IMG\", img_resized)\n",
    "\n",
    "# wait to close the window\n",
    "cv2.waitKey(0)\n",
    "cv2.destroyAllWindows()"
   ]
  },
  {
   "cell_type": "code",
   "execution_count": null,
   "metadata": {},
   "outputs": [],
   "source": []
  },
  {
   "cell_type": "code",
   "execution_count": 25,
   "metadata": {},
   "outputs": [
    {
     "data": {
      "text/plain": [
       "array([110, 137, 138], dtype=uint8)"
      ]
     },
     "execution_count": 25,
     "metadata": {},
     "output_type": "execute_result"
    }
   ],
   "source": [
    "img_resized[230][270]"
   ]
  }
 ],
 "metadata": {
  "kernelspec": {
   "display_name": "Python 3",
   "language": "python",
   "name": "python3"
  },
  "language_info": {
   "codemirror_mode": {
    "name": "ipython",
    "version": 3
   },
   "file_extension": ".py",
   "mimetype": "text/x-python",
   "name": "python",
   "nbconvert_exporter": "python",
   "pygments_lexer": "ipython3",
   "version": "3.7.3"
  }
 },
 "nbformat": 4,
 "nbformat_minor": 2
}
