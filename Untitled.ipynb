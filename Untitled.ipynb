{
 "cells": [
  {
   "cell_type": "code",
   "execution_count": 23,
   "metadata": {},
   "outputs": [],
   "source": [
    "import cv2\n",
    "import numpy as np\n",
    "from collections import deque"
   ]
  },
  {
   "cell_type": "code",
   "execution_count": 2,
   "metadata": {},
   "outputs": [],
   "source": [
    "def split_to_boxes(img, size):\n",
    "    start_idx = []\n",
    "    for r in range(0,img.shape[0], size):\n",
    "        for c in range(0,img.shape[1], size):\n",
    "            start_idx.append((r,c))\n",
    "            \n",
    "    return start_idx"
   ]
  },
  {
   "cell_type": "code",
   "execution_count": 3,
   "metadata": {},
   "outputs": [],
   "source": [
    "def valid_move2(img, row_idx, col_idx):\n",
    "    # out of left bound\n",
    "    if row_idx < 0:\n",
    "        return False\n",
    "    # out of upper bound\n",
    "    if col_idx < 0:\n",
    "        return False\n",
    "    # out of right bound\n",
    "    if row_idx >= img.shape[0]:\n",
    "        return False\n",
    "    # out of lower bound\n",
    "    if col_idx >= img.shape[1]:\n",
    "        return False\n",
    "\n",
    "    # grayish color - if lower than that, the box is not clear\n",
    "    black_treshold = np.array([100, 100, 100])\n",
    "    if np.all(np.less(img[row_idx][col_idx], black_treshold)):\n",
    "        return False\n",
    "\n",
    "    # it's a valid move\n",
    "    return True"
   ]
  },
  {
   "cell_type": "code",
   "execution_count": 4,
   "metadata": {},
   "outputs": [],
   "source": [
    "def clear_box(img, row, col, size):\n",
    "    for r in range(row, row+size):\n",
    "        for c in range(col, col+size):\n",
    "            if not valid_move2(img, r, c):\n",
    "                return False\n",
    "    \n",
    "    return True"
   ]
  },
  {
   "cell_type": "code",
   "execution_count": 5,
   "metadata": {},
   "outputs": [],
   "source": [
    "class Node:\n",
    "    def __init__(self, row, col, prev):\n",
    "        self.row_idx = row\n",
    "        self.col_idx = col\n",
    "        self.prev = prev"
   ]
  },
  {
   "cell_type": "code",
   "execution_count": 24,
   "metadata": {},
   "outputs": [],
   "source": [
    "def shortest_path2(img, start_row, start_col, end_row, end_col, size=1):\n",
    "    # inite a queue (FIFO)\n",
    "    q = deque()\n",
    "    seen_q = deque()\n",
    "    # create a node object\n",
    "    node = Node(start_row, start_col, None, None)\n",
    "    # append the first node to the queue\n",
    "    q.append(node)\n",
    "\n",
    "    c = 0\n",
    "    # while the queue is not empty, continue looking for the end\n",
    "    while q:\n",
    "        n = q.popleft()\n",
    "\n",
    "        if c % 10000 == 0:\n",
    "            print(f\"c is {c}, q has {len(q)}, seen_q {len(seen_q)}, curr row, col: {n.row_idx, n.col_idx}\")\n",
    "        c +=1\n",
    "\n",
    "        # checks if reach the end. if so return the node\n",
    "        if n.row_idx == end_row and n.col_idx == end_col:\n",
    "            return n\n",
    "\n",
    "        if (n.row_idx, n.col_idx) in seen_q:\n",
    "            continue\n",
    "\n",
    "        # check if can move to left, up, right, down\n",
    "        # checks left\n",
    "        if valid_move2(img, n.row_idx, n.col_idx - 1):\n",
    "            q.append(Node(n.row_idx, n.col_idx - 1, n, None))\n",
    "\n",
    "        # checks up\n",
    "        if valid_move2(img, n.row_idx - 1, n.col_idx):\n",
    "            q.append(Node(n.row_idx - 1, n.col_idx, n, None))\n",
    "\n",
    "        # checks right\n",
    "        if valid_move2(img, n.row_idx, n.col_idx + 1):\n",
    "            q.append(Node(n.row_idx, n.col_idx + 1, n, None))\n",
    "\n",
    "        # checks down\n",
    "        if valid_move2(img, n.row_idx + 1, n.col_idx):\n",
    "            q.append(Node(n.row_idx + 1, n.col_idx, n, None))\n",
    "\n",
    "        seen_q.append((n.row_idx, n.col_idx))\n",
    "\n",
    "    # if reached here - no path was found\n",
    "    print(\"DIDN'T FIND PATH\")\n",
    "    return"
   ]
  },
  {
   "cell_type": "code",
   "execution_count": 7,
   "metadata": {},
   "outputs": [],
   "source": [
    "def resize(img, per):\n",
    "\n",
    "    scale_percent = per # percent of original size\n",
    "    width = int(img.shape[1] * scale_percent / 100)\n",
    "    height = int(img.shape[0] * scale_percent / 100)\n",
    "    dim = (width, height)\n",
    "    \n",
    "    # resize image\n",
    "    resized = cv2.resize(img, dim, interpolation = cv2.INTER_AREA)\n",
    "\n",
    "    return resized\n"
   ]
  },
  {
   "cell_type": "code",
   "execution_count": null,
   "metadata": {},
   "outputs": [],
   "source": [
    "def resize(img, per):\n",
    "\n",
    "    scale_percent = per # percent of original size\n",
    "    width = int(img.shape[1] * scale_percent / 100)\n",
    "    height = int(img.shape[0] * scale_percent / 100)\n",
    "    dim = (width, height)\n",
    "    \n",
    "    # resize image\n",
    "    resized = cv2.resize(img, dim, interpolation = cv2.INTER_AREA)\n",
    "    \n",
    "    return resized"
   ]
  },
  {
   "cell_type": "code",
   "execution_count": 19,
   "metadata": {},
   "outputs": [
    {
     "name": "stdout",
     "output_type": "stream",
     "text": [
      "(72, 96, 3)\n",
      "Didn't find path\n"
     ]
    }
   ],
   "source": [
    "# algo\n",
    "# load image\n",
    "pic = cv2.imread('new-maze.jpg')\n",
    "\n",
    "\n",
    "img_resized = resize(pic, 10)\n",
    "print(img_resized.shape)\n",
    "\n",
    "cv2.imwrite(\"img_resized.jpg\",img_resized)\n",
    "\n",
    "# find shortest path\n",
    "n = shortest_path2(pic, 6, 6, 65, 96, 1)\n",
    "\n",
    "# img_resized[2:6, 2:6, :] = (0,255,0)\n",
    "# img_resized[65:69, 87:91, :] = (0,255,0)\n",
    "\n",
    "# # # show the new image\n",
    "cv2.imshow(\"Colored-IMG\", img_resized)\n",
    "# wait to close the window\n",
    "cv2.waitKey(0)\n",
    "cv2.destroyAllWindows()"
   ]
  },
  {
   "cell_type": "code",
   "execution_count": 25,
   "metadata": {},
   "outputs": [
    {
     "ename": "TypeError",
     "evalue": "__init__() takes 4 positional arguments but 5 were given",
     "output_type": "error",
     "traceback": [
      "\u001b[1;31m---------------------------------------------------------------------------\u001b[0m",
      "\u001b[1;31mTypeError\u001b[0m                                 Traceback (most recent call last)",
      "\u001b[1;32m<ipython-input-25-49457265e19d>\u001b[0m in \u001b[0;36m<module>\u001b[1;34m\u001b[0m\n\u001b[0;32m     11\u001b[0m \u001b[1;31m# cv2.imwrite(\"img_resized3.jpg\",img_resized)\u001b[0m\u001b[1;33m\u001b[0m\u001b[1;33m\u001b[0m\u001b[1;33m\u001b[0m\u001b[0m\n\u001b[0;32m     12\u001b[0m \u001b[1;33m\u001b[0m\u001b[0m\n\u001b[1;32m---> 13\u001b[1;33m \u001b[0mn\u001b[0m \u001b[1;33m=\u001b[0m \u001b[0mshortest_path2\u001b[0m\u001b[1;33m(\u001b[0m\u001b[0mpic\u001b[0m\u001b[1;33m,\u001b[0m \u001b[1;36m6\u001b[0m\u001b[1;33m,\u001b[0m \u001b[1;36m6\u001b[0m\u001b[1;33m,\u001b[0m \u001b[1;36m65\u001b[0m\u001b[1;33m,\u001b[0m \u001b[1;36m96\u001b[0m\u001b[1;33m,\u001b[0m \u001b[1;36m1\u001b[0m\u001b[1;33m)\u001b[0m\u001b[1;33m\u001b[0m\u001b[1;33m\u001b[0m\u001b[0m\n\u001b[0m\u001b[0;32m     14\u001b[0m \u001b[1;33m\u001b[0m\u001b[0m\n\u001b[0;32m     15\u001b[0m \u001b[1;31m# wait to close the window\u001b[0m\u001b[1;33m\u001b[0m\u001b[1;33m\u001b[0m\u001b[1;33m\u001b[0m\u001b[0m\n",
      "\u001b[1;32m<ipython-input-24-8b03f52a1a31>\u001b[0m in \u001b[0;36mshortest_path2\u001b[1;34m(img, start_row, start_col, end_row, end_col, size)\u001b[0m\n\u001b[0;32m      4\u001b[0m     \u001b[0mseen_q\u001b[0m \u001b[1;33m=\u001b[0m \u001b[0mdeque\u001b[0m\u001b[1;33m(\u001b[0m\u001b[1;33m)\u001b[0m\u001b[1;33m\u001b[0m\u001b[1;33m\u001b[0m\u001b[0m\n\u001b[0;32m      5\u001b[0m     \u001b[1;31m# create a node object\u001b[0m\u001b[1;33m\u001b[0m\u001b[1;33m\u001b[0m\u001b[1;33m\u001b[0m\u001b[0m\n\u001b[1;32m----> 6\u001b[1;33m     \u001b[0mnode\u001b[0m \u001b[1;33m=\u001b[0m \u001b[0mNode\u001b[0m\u001b[1;33m(\u001b[0m\u001b[0mstart_row\u001b[0m\u001b[1;33m,\u001b[0m \u001b[0mstart_col\u001b[0m\u001b[1;33m,\u001b[0m \u001b[1;32mNone\u001b[0m\u001b[1;33m,\u001b[0m \u001b[1;32mNone\u001b[0m\u001b[1;33m)\u001b[0m\u001b[1;33m\u001b[0m\u001b[1;33m\u001b[0m\u001b[0m\n\u001b[0m\u001b[0;32m      7\u001b[0m     \u001b[1;31m# append the first node to the queue\u001b[0m\u001b[1;33m\u001b[0m\u001b[1;33m\u001b[0m\u001b[1;33m\u001b[0m\u001b[0m\n\u001b[0;32m      8\u001b[0m     \u001b[0mq\u001b[0m\u001b[1;33m.\u001b[0m\u001b[0mappend\u001b[0m\u001b[1;33m(\u001b[0m\u001b[0mnode\u001b[0m\u001b[1;33m)\u001b[0m\u001b[1;33m\u001b[0m\u001b[1;33m\u001b[0m\u001b[0m\n",
      "\u001b[1;31mTypeError\u001b[0m: __init__() takes 4 positional arguments but 5 were given"
     ]
    }
   ],
   "source": [
    "# recolor the resized img\n",
    "for r in range(img_resized.shape[0]):\n",
    "    for c in range(img_resized.shape[1]):\n",
    "        black_treshold = np.array([100,100,100])\n",
    "        if np.any(np.less(img_resized[r][c], black_treshold)):\n",
    "            img_resized[r][c] = (0,0,0)\n",
    "        else:\n",
    "            img_resized[r][c] = (255,255,255)\n",
    "            \n",
    "# cv2.imshow(\"Colored-IMG\", img_resized)\n",
    "# cv2.imwrite(\"img_resized3.jpg\",img_resized)\n",
    "\n",
    "n = shortest_path2(pic, 6, 6, 65, 96, 1)\n",
    "\n",
    "# wait to close the window\n",
    "cv2.waitKey(0)\n",
    "cv2.destroyAllWindows()"
   ]
  },
  {
   "cell_type": "code",
   "execution_count": null,
   "metadata": {},
   "outputs": [],
   "source": []
  }
 ],
 "metadata": {
  "kernelspec": {
   "display_name": "Python 3",
   "language": "python",
   "name": "python3"
  },
  "language_info": {
   "codemirror_mode": {
    "name": "ipython",
    "version": 3
   },
   "file_extension": ".py",
   "mimetype": "text/x-python",
   "name": "python",
   "nbconvert_exporter": "python",
   "pygments_lexer": "ipython3",
   "version": "3.7.3"
  }
 },
 "nbformat": 4,
 "nbformat_minor": 2
}
