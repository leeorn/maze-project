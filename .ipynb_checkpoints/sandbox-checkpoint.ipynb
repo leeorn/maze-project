{
 "cells": [
  {
   "cell_type": "code",
   "execution_count": 8,
   "metadata": {},
   "outputs": [],
   "source": [
    "import cv2\n",
    "import numpy as np"
   ]
  },
  {
   "cell_type": "code",
   "execution_count": 9,
   "metadata": {},
   "outputs": [
    {
     "data": {
      "text/plain": [
       "75.0"
      ]
     },
     "execution_count": 9,
     "metadata": {},
     "output_type": "execute_result"
    }
   ],
   "source": [
    "SIZE_OF_MARBLE = 2 # cm\n",
    "PIXEL_TO_CM = 2.54 / 96 # Assuming the pixel density is 96\n",
    "PATH_WIDTH = SIZE_OF_MARBLE // PIXEL_TO_CM\n",
    "\n",
    "PATH_WIDTH"
   ]
  },
  {
   "cell_type": "code",
   "execution_count": 49,
   "metadata": {},
   "outputs": [],
   "source": [
    "# color a box size of width starting at row indx and column index on the image passed\n",
    "def color_box(img, row_idx, col_idx, width):\n",
    "    for i in range(width):\n",
    "        for j in range(width):\n",
    "#             if(img[i,j,0] > 127 and img[i,j,1] > 127 and img[i,j,2] > 127):\n",
    "            img[i,j,:] = (0, 255, 0)x\n",
    "            \n",
    "    return img"
   ]
  },
  {
   "cell_type": "code",
   "execution_count": 50,
   "metadata": {},
   "outputs": [],
   "source": [
    "img = cv2.imread('pic.jpg')\n",
    "img_a = color_box(img, 0, 0, 75)\n",
    "cv2.imshow(\"im\", img_a)\n",
    "cv2.waitKey(0)\n",
    "cv2.destroyAllWindows()"
   ]
  },
  {
   "cell_type": "code",
   "execution_count": 34,
   "metadata": {},
   "outputs": [],
   "source": [
    "# def color_open_space(contour_img, width):\n",
    "#     width = int(width)\n",
    "#     # gets the max value that a col/ row can have (still in the picture)\n",
    "#     max_col_size = contour_img.shape[1]\n",
    "#     max_row_size = contour_img.shape[0]\n",
    "    \n",
    "#     to_color_list = []\n",
    "#     for row in range(max_row_size):\n",
    "#         for col in range(max_col_size):\n",
    "#             if (col + width < max_col_size) & (row + width < max_row_size):\n",
    "#                 to_color_list.append((col, row))\n",
    "#                 # jump to the next block\n",
    "#                 col += width\n",
    "#                 row += width\n",
    "    \n",
    "    \n",
    "#     return to_color_list         "
   ]
  },
  {
   "cell_type": "code",
   "execution_count": null,
   "metadata": {},
   "outputs": [],
   "source": [
    "def is_clear(img, row_idx, col_idx, width)"
   ]
  },
  {
   "cell_type": "code",
   "execution_count": 38,
   "metadata": {},
   "outputs": [
    {
     "data": {
      "text/plain": [
       "array([[  0, 254,   0],\n",
       "       [  0, 254,   0],\n",
       "       [  0, 254,   0],\n",
       "       ...,\n",
       "       [  0,   0,   0],\n",
       "       [  0,   0,   0],\n",
       "       [  0,   0,   0]], dtype=uint8)"
      ]
     },
     "execution_count": 38,
     "metadata": {},
     "output_type": "execute_result"
    }
   ],
   "source": [
    "a = color_open_space(img, 75)\n",
    "a[0]"
   ]
  },
  {
   "cell_type": "code",
   "execution_count": 41,
   "metadata": {},
   "outputs": [
    {
     "data": {
      "text/plain": [
       "(714, 939, 3)"
      ]
     },
     "execution_count": 41,
     "metadata": {},
     "output_type": "execute_result"
    }
   ],
   "source": []
  },
  {
   "cell_type": "code",
   "execution_count": 36,
   "metadata": {},
   "outputs": [],
   "source": [
    "# load image\n",
    "img = cv2.imread('pic.jpg')\n",
    "\n",
    "# gray scale\n",
    "imgray = cv2.cvtColor(img, cv2.COLOR_BGR2GRAY)\n",
    "\n",
    "ret, thresh = cv2.threshold(imgray, 127, 255, 0)\n",
    "\n",
    "# find contours\n",
    "contours,hierachy=cv2.findContours(thresh,cv2.RETR_TREE,cv2.CHAIN_APPROX_SIMPLE)\n",
    "\n",
    "# draw the contour\n",
    "img_cont = cv2.drawContours(img, contours, 0, (0,255,0), 2)\n",
    "\n",
    "a = color_open_space(img_cont, PATH_WIDTH)\n",
    "\n",
    "cv2.imshow(\"im\", a)\n",
    "\n",
    "cv2.waitKey(0)\n",
    "cv2.destroyAllWindows()"
   ]
  },
  {
   "cell_type": "code",
   "execution_count": 29,
   "metadata": {},
   "outputs": [
    {
     "data": {
      "text/plain": [
       "(714, 939, 3)"
      ]
     },
     "execution_count": 29,
     "metadata": {},
     "output_type": "execute_result"
    }
   ],
   "source": [
    "img.shape"
   ]
  },
  {
   "cell_type": "code",
   "execution_count": 87,
   "metadata": {},
   "outputs": [],
   "source": [
    "# color section of an image\n",
    "img = cv2.imread('pic.jpg')\n",
    "\n",
    "img[50:150, 50:150] = [0,255,0]\n",
    "\n",
    "cv2.imshow(\"img\", img)\n",
    "\n",
    "cv2.waitKey(0)\n",
    "cv2.destroyAllWindows() "
   ]
  },
  {
   "cell_type": "code",
   "execution_count": 68,
   "metadata": {},
   "outputs": [],
   "source": [
    "img[250:350, 20:350] = [0,255,0]\n",
    "\n",
    "cv2.imshow(\"img\", img)\n",
    "cv2.waitKey(0)\n",
    "cv2.destroyAllWindows() "
   ]
  },
  {
   "cell_type": "code",
   "execution_count": 56,
   "metadata": {},
   "outputs": [
    {
     "name": "stdout",
     "output_type": "stream",
     "text": [
      "9.0 12.0\n",
      "(714, 939, 3)\n"
     ]
    }
   ],
   "source": [
    "# how many times the marbel gets inside the pic\n",
    "row_times = img.shape[0] // PATH_WIDTH\n",
    "col_times = img.shape[1] // PATH_WIDTH\n"
   ]
  },
  {
   "cell_type": "code",
   "execution_count": 124,
   "metadata": {},
   "outputs": [],
   "source": [
    "def is_box_blocked(img, row_idx, col_idx, width):\n",
    "#     # starting idx\n",
    "#     row_idx += width\n",
    "#     col_idx += width\n",
    "\n",
    "    # if the box is block\n",
    "    blocked = False\n",
    "    \n",
    "    # check each idx in that box, if it's not white, the box is block, return true\n",
    "    for r in range(row_idx, row_idx+width):\n",
    "        for c in range(col_idx, col_idx+width):\n",
    "            \n",
    "            if row_idx+width >= img.shape[0] or col_idx+width >= img.shape[1]:\n",
    "                block = True\n",
    "                \n",
    "            elif img[r,c,0] < 127 and img[r,c,1] < 127 and img[r,c,2] < 127:\n",
    "                blocked = True\n",
    "                break\n",
    "        \n",
    "        if blocked:\n",
    "            break\n",
    "            \n",
    "    return blocked"
   ]
  },
  {
   "cell_type": "code",
   "execution_count": 140,
   "metadata": {},
   "outputs": [],
   "source": [
    "def color_path(img, width):\n",
    "    for r in range(0, img.shape[0], width):\n",
    "        for c in range(0, img.shape[1], width):\n",
    "\n",
    "            if not is_box_blocked(img, r, c, width):\n",
    "                row_end = r + width\n",
    "                col_end = c + width\n",
    "                \n",
    "                if row_end >= img.shape[0] or col_end >= img.shape[1]:\n",
    "                    continue\n",
    "\n",
    "                img[r:row_end, c:col_end] = [0,255,0]\n",
    "    \n",
    "    return img    "
   ]
  },
  {
   "cell_type": "code",
   "execution_count": 141,
   "metadata": {},
   "outputs": [],
   "source": [
    "img4 = cv2.imread('pic.jpg')\n",
    "img4 = color_path(img4, 75)\n",
    "\n",
    "cv2.imshow(\"sda\", img4)\n",
    "cv2.waitKey(0)\n",
    "cv2.destroyAllWindows()    "
   ]
  },
  {
   "cell_type": "code",
   "execution_count": 83,
   "metadata": {},
   "outputs": [],
   "source": [
    "def a(img2, i, j):\n",
    "    img2[i:i+75, j:j+75] = [0,255,0]\n",
    "    \n",
    "    return img2\n",
    "\n",
    "img3 = cv2.imread('pic.jpg')x\n",
    "img3 = a(img3, 0, 0)\n",
    "\n",
    "cv2.imshow(\"sda\", img3)\n",
    "cv2.waitKey(0)\n",
    "cv2.destroyAllWindows()     "
   ]
  },
  {
   "cell_type": "code",
   "execution_count": 137,
   "metadata": {},
   "outputs": [],
   "source": [
    "img = cv2.imread('pic.jpg')\n",
    "img[75:150, 75:150] = [0,255,0]\n",
    "\n",
    "cv2.imshow(\"sda\", img)\n",
    "cv2.waitKey(0)\n",
    "cv2.destroyAllWindows()  "
   ]
  }
 ],
 "metadata": {
  "kernelspec": {
   "display_name": "Python 3",
   "language": "python",
   "name": "python3"
  },
  "language_info": {
   "codemirror_mode": {
    "name": "ipython",
    "version": 3
   },
   "file_extension": ".py",
   "mimetype": "text/x-python",
   "name": "python",
   "nbconvert_exporter": "python",
   "pygments_lexer": "ipython3",
   "version": "3.7.3"
  }
 },
 "nbformat": 4,
 "nbformat_minor": 2
}
