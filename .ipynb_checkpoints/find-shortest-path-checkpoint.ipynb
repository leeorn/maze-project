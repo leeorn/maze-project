{
 "cells": [
  {
   "cell_type": "markdown",
   "metadata": {},
   "source": [
    "try to detect the sheet and then the path"
   ]
  },
  {
   "cell_type": "code",
   "execution_count": 1,
   "metadata": {},
   "outputs": [],
   "source": [
    "import cv2\n",
    "import numpy as np"
   ]
  },
  {
   "cell_type": "code",
   "execution_count": 2,
   "metadata": {},
   "outputs": [
    {
     "data": {
      "text/plain": [
       "37"
      ]
     },
     "execution_count": 2,
     "metadata": {},
     "output_type": "execute_result"
    }
   ],
   "source": [
    "# Checks the size of the marbel\n",
    "SIZE_OF_MARBLE = 1 # cm\n",
    "PIXEL_TO_CM = 2.54 / 96 # Assuming the pixel density is 96\n",
    "PATH_WIDTH = int(SIZE_OF_MARBLE // PIXEL_TO_CM)\n",
    "\n",
    "PATH_WIDTH"
   ]
  },
  {
   "cell_type": "code",
   "execution_count": 3,
   "metadata": {},
   "outputs": [],
   "source": [
    "# Function that checks if a box is blocked to the marble or not. Does it by working on box size of the marble \n",
    "# (PATH_WIDTH by PATH_WIDTH). If any of the pixel within that box is black (value below 127) the box is considered\n",
    "# blocked\n",
    "# Takes in the image to test, the row and column indecies to start the box from and the width of the marble\n",
    "# Returns True if the box is blocked, else True\n",
    "def is_box_blocked(img, row_idx, col_idx, width):\n",
    "    # if the box is block\n",
    "    blocked = False\n",
    "    \n",
    "    # check each idx in that box, if it's not white, the box is block, return true\n",
    "    for r in range(row_idx, row_idx+width):\n",
    "        for c in range(col_idx, col_idx+width):\n",
    "            \n",
    "            if row_idx+width >= img.shape[0] or col_idx+width >= img.shape[1]:\n",
    "                block = True\n",
    "                \n",
    "            elif img[r,c,0] < 127 and img[r,c,1] < 127 and img[r,c,2] < 127:\n",
    "                blocked = True\n",
    "                break\n",
    "        \n",
    "        if blocked:\n",
    "            break\n",
    "            \n",
    "    return blocked"
   ]
  },
  {
   "cell_type": "code",
   "execution_count": 4,
   "metadata": {},
   "outputs": [],
   "source": [
    "# Function that colors all the possible areas where the marble can go to.\n",
    "# Takes in the img of the maze, and the width of the marble\n",
    "# returns the colored image\n",
    "def color_path(img, width):\n",
    "    for r in range(0, img.shape[0], width):\n",
    "        for c in range(0, img.shape[1], width):\n",
    "\n",
    "            if not is_box_blocked(img, r, c, width):\n",
    "                row_end = r + width\n",
    "                col_end = c + width\n",
    "                \n",
    "                if row_end >= img.shape[0] or col_end >= img.shape[1]:\n",
    "                    continue\n",
    "\n",
    "                img[r:row_end, c:col_end] = [0,255,0]\n",
    "    \n",
    "    return img    "
   ]
  },
  {
   "cell_type": "code",
   "execution_count": 5,
   "metadata": {},
   "outputs": [],
   "source": [
    "# load the image\n",
    "img = cv2.imread('pic.jpg')\n",
    "# call the function to color the image\n",
    "img = color_path(img, PATH_WIDTH)\n",
    "\n",
    "# show the new image\n",
    "cv2.imshow(\"Colored-IMG\", img)\n",
    "# wait to close the window\n",
    "cv2.waitKey(0)\n",
    "cv2.destroyAllWindows()    "
   ]
  },
  {
   "cell_type": "code",
   "execution_count": null,
   "metadata": {},
   "outputs": [],
   "source": []
  }
 ],
 "metadata": {
  "kernelspec": {
   "display_name": "Python 3",
   "language": "python",
   "name": "python3"
  },
  "language_info": {
   "codemirror_mode": {
    "name": "ipython",
    "version": 3
   },
   "file_extension": ".py",
   "mimetype": "text/x-python",
   "name": "python",
   "nbconvert_exporter": "python",
   "pygments_lexer": "ipython3",
   "version": "3.7.3"
  }
 },
 "nbformat": 4,
 "nbformat_minor": 2
}
