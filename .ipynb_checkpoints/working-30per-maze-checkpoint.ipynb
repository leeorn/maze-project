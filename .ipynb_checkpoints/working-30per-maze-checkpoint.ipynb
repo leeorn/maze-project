{
 "cells": [
  {
   "cell_type": "code",
   "execution_count": 1,
   "metadata": {},
   "outputs": [],
   "source": [
    "import numpy as np\n",
    "import cv2\n",
    "import timeit\n",
    "from collections import deque"
   ]
  },
  {
   "cell_type": "code",
   "execution_count": 2,
   "metadata": {},
   "outputs": [],
   "source": [
    "def valid_move2(img, row_idx, col_idx):\n",
    "    # out of left bound\n",
    "    if row_idx < 0:\n",
    "        return False\n",
    "    # out of upper bound\n",
    "    if col_idx < 0:\n",
    "        return False\n",
    "    # out of right bound\n",
    "    if row_idx >= img.shape[0]:\n",
    "        return False\n",
    "    # out of lower bound\n",
    "    if col_idx >= img.shape[1]:\n",
    "        return False\n",
    "\n",
    "    # grayish color - if lower than that, the box is not clear\n",
    "    black_treshold = np.array([100, 100, 100])\n",
    "    if np.all(np.less(img[row_idx][col_idx], black_treshold)):\n",
    "        return False\n",
    "\n",
    "    # it's a valid move\n",
    "    return True"
   ]
  },
  {
   "cell_type": "code",
   "execution_count": 3,
   "metadata": {},
   "outputs": [],
   "source": [
    "class Node:\n",
    "    def __init__(self, row, col, prev, color):\n",
    "        self.row_idx = row\n",
    "        self.col_idx = col\n",
    "        self.prev = prev\n",
    "        self.color = color\n",
    "        self.seen = False"
   ]
  },
  {
   "cell_type": "code",
   "execution_count": 4,
   "metadata": {},
   "outputs": [],
   "source": [
    "def shortest_path2(img, start_row, start_col, end_row, end_col, size=1):\n",
    "    # inite a queue (FIFO)\n",
    "    seen_q2 = np.zeros([img.shape[0], img.shape[1]])\n",
    "    q = deque()\n",
    "#     seen_q = deque()\n",
    "    # create a node object\n",
    "    node = Node(start_row, start_col, None, None)\n",
    "    # append the first node to the queue\n",
    "    q.append(node)\n",
    "\n",
    "    c = 0\n",
    "    # while the queue is not empty, continue looking for the end\n",
    "    while q:\n",
    "        n = q.popleft()\n",
    "\n",
    "#         if c % 10000 == 0:\n",
    "#             print(f\"c is {c}, q has {len(q)}, seen_q {len(seen_q)}, curr row, col: {n.row_idx, n.col_idx}\")\n",
    "#         c +=1\n",
    "\n",
    "        # checks if reach the end. if so return the node\n",
    "        if n.row_idx == end_row and n.col_idx == end_col:\n",
    "            return n\n",
    "\n",
    "#         if (n.row_idx, n.col_idx) in seen_q:\n",
    "#             continue\n",
    "\n",
    "        if seen_q2[n.row_idx][n.col_idx]:\n",
    "            continue\n",
    "\n",
    "        # check if can move to left, up, right, down\n",
    "        # checks left\n",
    "        if valid_move2(img, n.row_idx, n.col_idx - 1):\n",
    "            q.append(Node(n.row_idx, n.col_idx - 1, n, None))\n",
    "\n",
    "        # checks up\n",
    "        if valid_move2(img, n.row_idx - 1, n.col_idx):\n",
    "            q.append(Node(n.row_idx - 1, n.col_idx, n, None))\n",
    "\n",
    "        # checks right\n",
    "        if valid_move2(img, n.row_idx, n.col_idx + 1):\n",
    "            q.append(Node(n.row_idx, n.col_idx + 1, n, None))\n",
    "\n",
    "        # checks down\n",
    "        if valid_move2(img, n.row_idx + 1, n.col_idx):\n",
    "            q.append(Node(n.row_idx + 1, n.col_idx, n, None))\n",
    "\n",
    "#         seen_q.append((n.row_idx, n.col_idx))\n",
    "        seen_q2[n.row_idx][n.col_idx] = 1\n",
    "\n",
    "\n",
    "    # if reached here - no path was found\n",
    "    print(\"DIDN'T FIND PATH\")\n",
    "    return"
   ]
  },
  {
   "cell_type": "code",
   "execution_count": 5,
   "metadata": {},
   "outputs": [],
   "source": [
    "def resize(img, per):\n",
    "\n",
    "    scale_percent = per # percent of original size\n",
    "    width = int(img.shape[1] * scale_percent / 100)\n",
    "    height = int(img.shape[0] * scale_percent / 100)\n",
    "    dim = (width, height)\n",
    "    \n",
    "    # resize image\n",
    "    resized = cv2.resize(img, dim, interpolation = cv2.INTER_AREA)\n",
    "    \n",
    "    return resized"
   ]
  },
  {
   "cell_type": "code",
   "execution_count": 6,
   "metadata": {},
   "outputs": [],
   "source": [
    "def recolor_img(img):\n",
    "    # recolor the resized img\n",
    "    for r in range(img.shape[0]):\n",
    "        for c in range(img.shape[1]):\n",
    "\n",
    "            black_treshold = np.array([100,100,100])\n",
    "            # color black\n",
    "            if np.any(np.less(img[r][c], black_treshold)):\n",
    "                img[r][c] = (0,0,0)\n",
    "\n",
    "            # color white\n",
    "            else:\n",
    "                img[r][c] = (255,255,255)\n",
    "                \n",
    "    return img"
   ]
  },
  {
   "cell_type": "code",
   "execution_count": 10,
   "metadata": {},
   "outputs": [
    {
     "name": "stdout",
     "output_type": "stream",
     "text": [
      "start timeing\n",
      "end timeing\n",
      "-0.005842900000004647\n"
     ]
    }
   ],
   "source": [
    "# algo\n",
    "# load image\n",
    "pic = cv2.imread('maze-flash.jpg')\n",
    "img_resized = resize(pic, 10)\n",
    "\n",
    "colored_img = recolor_img(img_resized.copy())\n",
    "\n",
    "print((\"start timeing\"))\n",
    "s = timeit.timeit()\n",
    "# find shortest path\n",
    "n = shortest_path2(colored_img, 30,30,220,220,1)\n",
    "\n",
    "print((\"end timeing\"))\n",
    "e = timeit.timeit()\n",
    "\n",
    "print(e-s)\n",
    "\n",
    "cv2.imshow(\"Colored-IMG\", colored_img)\n",
    "\n",
    "\n",
    "# wait to close the window\n",
    "cv2.waitKey(0)\n",
    "cv2.destroyAllWindows()"
   ]
  },
  {
   "cell_type": "code",
   "execution_count": 11,
   "metadata": {},
   "outputs": [],
   "source": [
    "# color the path \n",
    "n1 = n\n",
    "while n1:\n",
    "    img_resized[n1.row_idx-1:n1.row_idx+1, n1.col_idx-1:n1.col_idx+1, :] = (0,255,0)\n",
    "    n1 = n1.prev\n",
    "    \n",
    "cv2.imshow(\"Colored-IMG\", img_resized)\n",
    "cv2.imwrite(\"img_resized4.jpg\",img_resized)\n",
    "\n",
    "\n",
    "# wait to close the window\n",
    "cv2.waitKey(0)\n",
    "cv2.destroyAllWindows()"
   ]
  },
  {
   "cell_type": "code",
   "execution_count": 9,
   "metadata": {},
   "outputs": [],
   "source": [
    "# DELETE\n",
    "pic = cv2.imread('maze-flash.jpg')\n",
    "img_resized = resize(pic, 10)\n",
    "cv2.imshow(\"Colored-IMG\", img_resized)\n",
    "\n",
    "\n",
    "# wait to close the window\n",
    "cv2.waitKey(0)\n",
    "cv2.destroyAllWindows()"
   ]
  },
  {
   "cell_type": "code",
   "execution_count": null,
   "metadata": {},
   "outputs": [],
   "source": [
    "\n",
    "pic = cv2.imread('maze-flash.jpg')\n",
    "img_resized = resize(pic, 10)\n",
    "color = recolor_img(img_resized)\n",
    "print(color.shape)\n",
    "\n",
    "img_resized[30:35, 30:35,:] = (0,0,255)\n",
    "img_resized[220:225, 220:225, :] = (0,0,255)\n",
    "# recolored = recolor_img(img_resized)\n",
    "cv2.imshow(\"Colored-IMG\", color)\n",
    "\n",
    "# wait to close the window\n",
    "cv2.waitKey(0)\n",
    "cv2.destroyAllWindows()"
   ]
  },
  {
   "cell_type": "code",
   "execution_count": null,
   "metadata": {},
   "outputs": [],
   "source": [
    "def find_first_white(img):\n",
    "    th = (140, 140, 140)\n",
    "    for r in range(img.shape[0]):\n",
    "        for c in range(img.shape[1]):\n",
    "            if np.all(np.greater(img[r][c],th )):\n",
    "                return (r,c)"
   ]
  },
  {
   "cell_type": "code",
   "execution_count": null,
   "metadata": {},
   "outputs": [],
   "source": [
    "a = find_first_white(color)\n",
    "a"
   ]
  },
  {
   "cell_type": "code",
   "execution_count": null,
   "metadata": {},
   "outputs": [],
   "source": []
  }
 ],
 "metadata": {
  "kernelspec": {
   "display_name": "Python 3",
   "language": "python",
   "name": "python3"
  },
  "language_info": {
   "codemirror_mode": {
    "name": "ipython",
    "version": 3
   },
   "file_extension": ".py",
   "mimetype": "text/x-python",
   "name": "python",
   "nbconvert_exporter": "python",
   "pygments_lexer": "ipython3",
   "version": "3.7.3"
  }
 },
 "nbformat": 4,
 "nbformat_minor": 2
}
