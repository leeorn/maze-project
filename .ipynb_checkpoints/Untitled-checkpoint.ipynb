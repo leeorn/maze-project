{
 "cells": [
  {
   "cell_type": "code",
   "execution_count": 1,
   "metadata": {},
   "outputs": [],
   "source": [
    "import cv2\n",
    "import numpy as np"
   ]
  },
  {
   "cell_type": "code",
   "execution_count": 2,
   "metadata": {},
   "outputs": [],
   "source": [
    "def split_to_boxes(img, size):\n",
    "    start_idx = []\n",
    "    for r in range(0,img.shape[0], size):\n",
    "        for c in range(0,img.shape[1], size):\n",
    "            start_idx.append((r,c))\n",
    "            \n",
    "    return start_idx"
   ]
  },
  {
   "cell_type": "code",
   "execution_count": 3,
   "metadata": {},
   "outputs": [],
   "source": [
    "def valid_move2(img, row_idx, col_idx):\n",
    "    # out of left bound\n",
    "    if row_idx < 0: \n",
    "        return False\n",
    "    # out of upper bound\n",
    "    if col_idx < 0:\n",
    "        return False\n",
    "    # out of right bound\n",
    "    if row_idx >= img.shape[0]:\n",
    "        return False\n",
    "    # out of lower bound\n",
    "    if col_idx >= img.shape[1]:\n",
    "        return False\n",
    "    \n",
    "    # grayish color - if lower than that, the box is not clear\n",
    "    black_treshold = np.array([100,100,100])\n",
    "    if np.all(np.less(img[row_idx][col_idx], black_treshold)):\n",
    "        return False\n",
    "    \n",
    "\n",
    "    # it's a valid move\n",
    "    return True"
   ]
  },
  {
   "cell_type": "code",
   "execution_count": 4,
   "metadata": {},
   "outputs": [],
   "source": [
    "def clear_box(img, row, col, size):\n",
    "    for r in range(row, row+size):\n",
    "        for c in range(col, col+size):\n",
    "            if not valid_move2(img, r, c):\n",
    "                return False\n",
    "    \n",
    "    return True"
   ]
  },
  {
   "cell_type": "code",
   "execution_count": 5,
   "metadata": {},
   "outputs": [],
   "source": [
    "class Node:\n",
    "    def __init__(self, row, col, prev):\n",
    "        self.row_idx = row\n",
    "        self.col_idx = col\n",
    "        self.prev = prev"
   ]
  },
  {
   "cell_type": "code",
   "execution_count": 19,
   "metadata": {},
   "outputs": [],
   "source": [
    "from collections import deque\n",
    "\n",
    "def shortest_path2(img, start_row, start_col, end_row, end_col, size):\n",
    "    # inite a queue (FIFO)\n",
    "    q = deque()\n",
    "    seen_q = deque()\n",
    "    \n",
    "    node = Node(start_row, start_col, None)\n",
    "    q.append(node)\n",
    "    \n",
    "    \n",
    "    \n",
    "    while q:\n",
    "        n = q.popleft()\n",
    "        \n",
    "        \n",
    "        if n.row_idx == end_row and n.col_idx == end_col:\n",
    "            return n\n",
    "        \n",
    "        if (n.row_idx, n.col_idx) not in seen_q:\n",
    "            \n",
    "            # checks if can go left/right/up/down if so add to the queue\n",
    "            #left\n",
    "            if valid_move2(img, n.row_idx, n.col_idx-size):\n",
    "                q.append(Node(n.row_idx, n.col_idx-size, n))\n",
    "            #up\n",
    "            if valid_move2(img ,n.row_idx-size, n.col_idx):\n",
    "                q.append(Node(n.row_idx-size, n.col_idx, n))\n",
    "            #right\n",
    "            if valid_move2(img, n.row_idx, n.col_idx+size):\n",
    "                q.append(Node(n.row_idx+size, n.col_idx, n))\n",
    "            #down\n",
    "            if valid_move2(img, n.row_idx+size, n.col_idx):\n",
    "                q.append(Node(n.row_idx+size, n.col_idx, n))\n",
    "                \n",
    "                \n",
    "            seen_q.append((n.row_idx, n.col_idx))\n",
    "    \n",
    "    print(\"Didn't find path\")\n",
    "        "
   ]
  },
  {
   "cell_type": "code",
   "execution_count": 20,
   "metadata": {},
   "outputs": [],
   "source": [
    "def resize(img, per):\n",
    "\n",
    "    scale_percent = per # percent of original size\n",
    "    width = int(img.shape[1] * scale_percent / 100)\n",
    "    height = int(img.shape[0] * scale_percent / 100)\n",
    "    dim = (width, height)\n",
    "    \n",
    "    # resize image\n",
    "    resized = cv2.resize(img, dim, interpolation = cv2.INTER_AREA)\n",
    "\n",
    "    return resized\n"
   ]
  },
  {
   "cell_type": "code",
   "execution_count": 21,
   "metadata": {},
   "outputs": [
    {
     "name": "stdout",
     "output_type": "stream",
     "text": [
      "(72, 96, 3)\n",
      "Didn't find path\n"
     ]
    }
   ],
   "source": [
    "# algo\n",
    "# load image\n",
    "pic = cv2.imread('new-maze-masked.jpg')\n",
    "\n",
    "\n",
    "# def shortest_path2(img, start_row, start_idx, end_row, end_col, size):\n",
    "\n",
    "img_resized = resize(pic, 10)\n",
    "print(img_resized.shape)\n",
    "\n",
    "# find shortest path\n",
    "n = shortest_path2(img_resized, 3, 3, 25, 25, 1)\n",
    "\n",
    "# # # show the new image\n",
    "# # cv2.imshow(\"Colored-IMG\", pic)\n",
    "# # # wait to close the window\n",
    "# # cv2.waitKey(0)\n",
    "# # cv2.destroyAllWindows()"
   ]
  },
  {
   "cell_type": "code",
   "execution_count": 17,
   "metadata": {},
   "outputs": [
    {
     "name": "stdout",
     "output_type": "stream",
     "text": [
      "None\n"
     ]
    }
   ],
   "source": []
  },
  {
   "cell_type": "code",
   "execution_count": 15,
   "metadata": {},
   "outputs": [],
   "source": [
    "n1 = n\n",
    "while n1:\n",
    "    print(n1.row_idx, n1.col_idx)\n",
    "    n1 = n1.prev"
   ]
  },
  {
   "cell_type": "code",
   "execution_count": null,
   "metadata": {},
   "outputs": [],
   "source": [
    "split_to_boxes(img_resized, 7)"
   ]
  },
  {
   "cell_type": "code",
   "execution_count": 23,
   "metadata": {},
   "outputs": [
    {
     "data": {
      "text/plain": [
       "array([255, 255, 255], dtype=uint8)"
      ]
     },
     "execution_count": 23,
     "metadata": {},
     "output_type": "execute_result"
    }
   ],
   "source": [
    "pic = cv2.imread('new-maze-masked.jpg')\n",
    "img_resized = resize(pic, 10)\n",
    "\n",
    "img_resized[25][25]"
   ]
  },
  {
   "cell_type": "code",
   "execution_count": null,
   "metadata": {},
   "outputs": [],
   "source": []
  }
 ],
 "metadata": {
  "kernelspec": {
   "display_name": "Python 3",
   "language": "python",
   "name": "python3"
  },
  "language_info": {
   "codemirror_mode": {
    "name": "ipython",
    "version": 3
   },
   "file_extension": ".py",
   "mimetype": "text/x-python",
   "name": "python",
   "nbconvert_exporter": "python",
   "pygments_lexer": "ipython3",
   "version": "3.7.3"
  }
 },
 "nbformat": 4,
 "nbformat_minor": 2
}
