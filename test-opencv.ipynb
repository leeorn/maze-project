{
 "cells": [
  {
   "cell_type": "markdown",
   "metadata": {},
   "source": [
    "try to detect the sheet and then the path"
   ]
  },
  {
   "cell_type": "code",
   "execution_count": 1,
   "metadata": {},
   "outputs": [],
   "source": [
    "import cv2\n",
    "import numpy as np"
   ]
  },
  {
   "cell_type": "code",
   "execution_count": 2,
   "metadata": {},
   "outputs": [
    {
     "name": "stdout",
     "output_type": "stream",
     "text": [
      "(714, 939, 3)\n"
     ]
    }
   ],
   "source": [
    "# load image\n",
    "img = cv2.imread('pic.jpg')\n",
    "\n",
    "# gray scale\n",
    "imgray = cv2.cvtColor(img, cv2.COLOR_BGR2GRAY)\n",
    "\n",
    "ret, thresh = cv2.threshold(imgray, 127, 255, 0)\n",
    "\n",
    "# find contours\n",
    "contours,hierachy=cv2.findContours(thresh,cv2.RETR_TREE,cv2.CHAIN_APPROX_SIMPLE)\n",
    "\n",
    "img_cont = cv2.drawContours(img, contours, 0, (0,255,0), 2)\n",
    "\n",
    "cont_shape = img_cont.shape\n",
    "for i in range(cont_shape[0]):\n",
    "    for j in range(cont_shape[1]):\n",
    "        if(img_cont[i,j,0] == 255 and img_cont[i,j,1] == 255 and img_cont[i,j,2] == 255):\n",
    "            img_cont[i,j,:] = (255, 0, 0)\n",
    "cv2.imshow(\"image\", img_cont)\n",
    "\n",
    "print(img_cont.shape)\n",
    "\n",
    "cv2.waitKey(0)\n",
    "cv2.destroyAllWindows()\n",
    "\n",
    "# TODO:\n",
    "# - crop everything outside of the contours"
   ]
  },
  {
   "cell_type": "code",
   "execution_count": 3,
   "metadata": {},
   "outputs": [
    {
     "data": {
      "text/plain": [
       "75.0"
      ]
     },
     "execution_count": 3,
     "metadata": {},
     "output_type": "execute_result"
    }
   ],
   "source": [
    "SIZE_OF_MARBLE = 2 # cm\n",
    "PIXEL_TO_CM = 2.54 / 96 # Assuming the pixel density is 96\n",
    "PATH_WIDTH = SIZE_OF_MARBLE // PIXEL_TO_CM\n",
    "\n",
    "PATH_WIDTH"
   ]
  },
  {
   "cell_type": "code",
   "execution_count": 5,
   "metadata": {},
   "outputs": [],
   "source": [
    "# The function checks if a the marble can go at this area of the maze. The conditions for that are that a box of \n",
    "# the size of the marble (PATH_WIDTH) should be free from obstacles\n",
    "# Takes in the array of the image, and index of starting row and column\n",
    "# Returns 0 if the the box is blocked, 1 if it's free\n",
    "def can_go_through(img_array, idx_row, idx_col):\n",
    "    COLOR_THRESHOLD = 127\n",
    "    for j in range(idx_row + PATH_WIDTH):\n",
    "        for i in range(idx_col + PATH_WIDTH):\n",
    "            if img_array[j][i] > COLOR_THRESHOLD:\n",
    "                return 0\n",
    "    \n",
    "    return 1"
   ]
  },
  {
   "cell_type": "code",
   "execution_count": 59,
   "metadata": {},
   "outputs": [],
   "source": [
    "# The function maps the pixel array (the image) to a new matrix with boxes size PATH_WIDTH by PATH_WIDTH\n",
    "# and says if this box is accessable to the marble, or if the box is blocked\n",
    "# Takes the img_array (pixel value), the width of the marble\n",
    "# Returns the new maze (box)\n",
    "def split_maze(img_array, width):\n",
    "    new_row = int(img_array.shape[0] // width)\n",
    "    new_col = int(img_array.shape[1] // width)\n",
    "    \n",
    "    # create the new maze filled with 0 (nothing is accessable)\n",
    "    new_maze = np.zeros([new_row, new_col], dtype=int)\n",
    "    \n",
    "    # the index for the new maze \n",
    "    new_c = 0\n",
    "    new_r = 0\n",
    "    \n",
    "    for r in range(0, img_array.shape[0], int(width)):\n",
    "        for c in range(0, img_array.shape[1], int(width)):\n",
    "            # check if adding the width to currnt index will get out of bound\n",
    "            row_out_bound = ((r + width - 1) > img_array[0]).any()\n",
    "            col_out_bound = ((c + width - 1) > img_array[1]).any()\n",
    "            print(f\"row_out_bound: {row_out_bound}, col_out_bound: {col_out_bound}\")\n",
    "            \n",
    "            \n",
    "            print(new_r, new_c)\n",
    "            \n",
    "            # if so, the new maze, marked as blocked\n",
    "            if row_out_bound and col_out_bound:\n",
    "                new_maze[new_r][new_c] = 0\n",
    "                \n",
    "            # else, check if the box is free, and assign this value to the new matrix\n",
    "            else:\n",
    "                is_free = can_go_through(img_array, r, j)\n",
    "                new_maze[new_r][new_c] = is_free\n",
    "                \n",
    "            new_c += 1\n",
    "        new_r += 1\n",
    "        \n",
    "    return new_maze"
   ]
  },
  {
   "cell_type": "code",
   "execution_count": 60,
   "metadata": {},
   "outputs": [
    {
     "name": "stdout",
     "output_type": "stream",
     "text": [
      "row_out_bound: True, col_out_bound: True\n",
      "0 0\n",
      "row_out_bound: True, col_out_bound: True\n",
      "0 1\n",
      "row_out_bound: True, col_out_bound: True\n",
      "0 2\n",
      "row_out_bound: True, col_out_bound: True\n",
      "0 3\n",
      "row_out_bound: True, col_out_bound: True\n",
      "0 4\n",
      "row_out_bound: True, col_out_bound: True\n",
      "0 5\n",
      "row_out_bound: True, col_out_bound: True\n",
      "0 6\n",
      "row_out_bound: True, col_out_bound: True\n",
      "0 7\n",
      "row_out_bound: True, col_out_bound: True\n",
      "0 8\n",
      "row_out_bound: True, col_out_bound: True\n",
      "0 9\n",
      "row_out_bound: True, col_out_bound: True\n",
      "0 10\n",
      "row_out_bound: True, col_out_bound: True\n",
      "0 11\n",
      "row_out_bound: True, col_out_bound: True\n",
      "0 12\n"
     ]
    },
    {
     "ename": "IndexError",
     "evalue": "index 12 is out of bounds for axis 0 with size 12",
     "output_type": "error",
     "traceback": [
      "\u001b[1;31m---------------------------------------------------------------------------\u001b[0m",
      "\u001b[1;31mIndexError\u001b[0m                                Traceback (most recent call last)",
      "\u001b[1;32m<ipython-input-60-286cb3d16358>\u001b[0m in \u001b[0;36m<module>\u001b[1;34m\u001b[0m\n\u001b[1;32m----> 1\u001b[1;33m \u001b[0mr\u001b[0m \u001b[1;33m=\u001b[0m \u001b[0msplit_maze\u001b[0m\u001b[1;33m(\u001b[0m\u001b[0mimg\u001b[0m\u001b[1;33m,\u001b[0m \u001b[0mPATH_WIDTH\u001b[0m\u001b[1;33m)\u001b[0m\u001b[1;33m\u001b[0m\u001b[1;33m\u001b[0m\u001b[0m\n\u001b[0m\u001b[0;32m      2\u001b[0m \u001b[1;33m\u001b[0m\u001b[0m\n\u001b[0;32m      3\u001b[0m \u001b[0mr\u001b[0m\u001b[1;33m.\u001b[0m\u001b[0mshape\u001b[0m\u001b[1;33m\u001b[0m\u001b[1;33m\u001b[0m\u001b[0m\n",
      "\u001b[1;32m<ipython-input-59-7f2eed1cb664>\u001b[0m in \u001b[0;36msplit_maze\u001b[1;34m(img_array, width)\u001b[0m\n\u001b[0;32m     26\u001b[0m             \u001b[1;31m# if so, the new maze, marked as blocked\u001b[0m\u001b[1;33m\u001b[0m\u001b[1;33m\u001b[0m\u001b[1;33m\u001b[0m\u001b[0m\n\u001b[0;32m     27\u001b[0m             \u001b[1;32mif\u001b[0m \u001b[0mrow_out_bound\u001b[0m \u001b[1;32mand\u001b[0m \u001b[0mcol_out_bound\u001b[0m\u001b[1;33m:\u001b[0m\u001b[1;33m\u001b[0m\u001b[1;33m\u001b[0m\u001b[0m\n\u001b[1;32m---> 28\u001b[1;33m                 \u001b[0mnew_maze\u001b[0m\u001b[1;33m[\u001b[0m\u001b[0mnew_r\u001b[0m\u001b[1;33m]\u001b[0m\u001b[1;33m[\u001b[0m\u001b[0mnew_c\u001b[0m\u001b[1;33m]\u001b[0m \u001b[1;33m=\u001b[0m \u001b[1;36m0\u001b[0m\u001b[1;33m\u001b[0m\u001b[1;33m\u001b[0m\u001b[0m\n\u001b[0m\u001b[0;32m     29\u001b[0m \u001b[1;33m\u001b[0m\u001b[0m\n\u001b[0;32m     30\u001b[0m             \u001b[1;31m# else, check if the box is free, and assign this value to the new matrix\u001b[0m\u001b[1;33m\u001b[0m\u001b[1;33m\u001b[0m\u001b[1;33m\u001b[0m\u001b[0m\n",
      "\u001b[1;31mIndexError\u001b[0m: index 12 is out of bounds for axis 0 with size 12"
     ]
    }
   ],
   "source": [
    "r = split_maze(img, PATH_WIDTH)\n",
    "\n",
    "r.shape"
   ]
  },
  {
   "cell_type": "code",
   "execution_count": 58,
   "metadata": {},
   "outputs": [
    {
     "name": "stdout",
     "output_type": "stream",
     "text": [
      "9 12\n"
     ]
    }
   ],
   "source": [
    "new_row = int(img.shape[0] // PATH_WIDTH)\n",
    "new_col = int(img.shape[1] // PATH_WIDTH)\n",
    "\n",
    "print(new_row, new_col)"
   ]
  },
  {
   "cell_type": "code",
   "execution_count": null,
   "metadata": {},
   "outputs": [],
   "source": []
  }
 ],
 "metadata": {
  "kernelspec": {
   "display_name": "Python 3",
   "language": "python",
   "name": "python3"
  },
  "language_info": {
   "codemirror_mode": {
    "name": "ipython",
    "version": 3
   },
   "file_extension": ".py",
   "mimetype": "text/x-python",
   "name": "python",
   "nbconvert_exporter": "python",
   "pygments_lexer": "ipython3",
   "version": "3.7.3"
  }
 },
 "nbformat": 4,
 "nbformat_minor": 2
}
